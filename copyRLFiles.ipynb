{
 "cells": [
  {
   "cell_type": "code",
   "execution_count": 1,
   "metadata": {},
   "outputs": [],
   "source": [
    "# -*- coding: utf-8 -*-\n",
    "\"\"\"\n",
    "Created on Thu Jul 19 12:47:46 2018\n",
    "@author: Fuji Sakai\n",
    "Protocol of copy files with name including \"RL\"  to folder \"data\". \n",
    "\n",
    "\"\"\"\n",
    "import os\n",
    "import shutil\n",
    "import csv\n",
    "import pickle"
   ]
  },
  {
   "cell_type": "code",
   "execution_count": 12,
   "metadata": {},
   "outputs": [],
   "source": [
    "folder = 'sample_data'\n",
    "folder_to = 'data'\n",
    "\n",
    "#%% pick file names include \"RL\"\n",
    "files = []\n",
    "for root, directories, filenames in os.walk(folder):\n",
    "    for filename in filenames:\n",
    "        if 'RL' in filename: \n",
    "            files.append(os.path.join(root, filename))"
   ]
  },
  {
   "cell_type": "code",
   "execution_count": 13,
   "metadata": {},
   "outputs": [],
   "source": [
    "#%% To do: copy files in RLfiles to folder_to\n",
    "for file in files:\n",
    "    copy_to = os.path.join(folder_to, os.path.basename(file))\n",
    "    shutil.copyfile(file, copy_to)"
   ]
  },
  {
   "cell_type": "code",
   "execution_count": null,
   "metadata": {},
   "outputs": [],
   "source": []
  }
 ],
 "metadata": {
  "kernelspec": {
   "display_name": "Python 3",
   "language": "python",
   "name": "python3"
  },
  "language_info": {
   "codemirror_mode": {
    "name": "ipython",
    "version": 3
   },
   "file_extension": ".py",
   "mimetype": "text/x-python",
   "name": "python",
   "nbconvert_exporter": "python",
   "pygments_lexer": "ipython3",
   "version": "3.6.5"
  }
 },
 "nbformat": 4,
 "nbformat_minor": 2
}

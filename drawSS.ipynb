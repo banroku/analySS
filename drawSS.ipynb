{
 "cells": [
  {
   "cell_type": "code",
   "execution_count": 1,
   "metadata": {},
   "outputs": [],
   "source": [
    "import numpy as np\n",
    "import pandas as pd\n",
    "import os\n",
    "import matplotlib.pyplot as plt\n",
    "%matplotlib inline\n",
    "pd.set_option('display.max_rows', 10)"
   ]
  },
  {
   "cell_type": "code",
   "execution_count": 5,
   "metadata": {},
   "outputs": [],
   "source": [
    "#%% settings\n",
    "#for windows\n",
    "#file = 'sample_data\\\\201805\\\\RL7785--1K-20180517102718_crv.csv'\n",
    "file = 'sample_data/201805/RL7797--1K-20180525135150_crv.csv'\n",
    "#file_rlt = 'sample_data\\\\201805\\\\RL7785--1K-20180517102718_rlt.csv'\n",
    "file_rlt = 'sample_data/201805/RL7797--1K-20180525135150_rlt.csv'\n"
   ]
  },
  {
   "cell_type": "code",
   "execution_count": 10,
   "metadata": {},
   "outputs": [
    {
     "data": {
      "text/html": [
       "<div>\n",
       "<style scoped>\n",
       "    .dataframe tbody tr th:only-of-type {\n",
       "        vertical-align: middle;\n",
       "    }\n",
       "\n",
       "    .dataframe tbody tr th {\n",
       "        vertical-align: top;\n",
       "    }\n",
       "\n",
       "    .dataframe thead th {\n",
       "        text-align: right;\n",
       "    }\n",
       "</style>\n",
       "<table border=\"1\" class=\"dataframe\">\n",
       "  <thead>\n",
       "    <tr style=\"text-align: right;\">\n",
       "      <th></th>\n",
       "      <th>mm</th>\n",
       "      <th>N</th>\n",
       "      <th>mm.1</th>\n",
       "      <th>N.1</th>\n",
       "      <th>mm.2</th>\n",
       "      <th>N.2</th>\n",
       "      <th>mm.3</th>\n",
       "      <th>N.3</th>\n",
       "      <th>mm.4</th>\n",
       "      <th>N.4</th>\n",
       "    </tr>\n",
       "  </thead>\n",
       "  <tbody>\n",
       "    <tr>\n",
       "      <th>1</th>\n",
       "      <td>0.000</td>\n",
       "      <td>0.10</td>\n",
       "      <td>0.000</td>\n",
       "      <td>0.10</td>\n",
       "      <td>0.000</td>\n",
       "      <td>0.10</td>\n",
       "      <td>0.000</td>\n",
       "      <td>0.11</td>\n",
       "      <td>0.000</td>\n",
       "      <td>0.11</td>\n",
       "    </tr>\n",
       "    <tr>\n",
       "      <th>2</th>\n",
       "      <td>0.001</td>\n",
       "      <td>0.18</td>\n",
       "      <td>0.001</td>\n",
       "      <td>0.14</td>\n",
       "      <td>0.001</td>\n",
       "      <td>0.12</td>\n",
       "      <td>0.001</td>\n",
       "      <td>0.18</td>\n",
       "      <td>0.001</td>\n",
       "      <td>0.12</td>\n",
       "    </tr>\n",
       "    <tr>\n",
       "      <th>3</th>\n",
       "      <td>0.002</td>\n",
       "      <td>0.26</td>\n",
       "      <td>0.002</td>\n",
       "      <td>0.24</td>\n",
       "      <td>0.002</td>\n",
       "      <td>0.22</td>\n",
       "      <td>0.002</td>\n",
       "      <td>0.26</td>\n",
       "      <td>0.002</td>\n",
       "      <td>0.20</td>\n",
       "    </tr>\n",
       "    <tr>\n",
       "      <th>4</th>\n",
       "      <td>0.003</td>\n",
       "      <td>0.37</td>\n",
       "      <td>0.003</td>\n",
       "      <td>0.35</td>\n",
       "      <td>0.003</td>\n",
       "      <td>0.34</td>\n",
       "      <td>0.003</td>\n",
       "      <td>0.35</td>\n",
       "      <td>0.003</td>\n",
       "      <td>0.25</td>\n",
       "    </tr>\n",
       "    <tr>\n",
       "      <th>5</th>\n",
       "      <td>0.004</td>\n",
       "      <td>0.43</td>\n",
       "      <td>0.004</td>\n",
       "      <td>0.46</td>\n",
       "      <td>0.004</td>\n",
       "      <td>0.43</td>\n",
       "      <td>0.004</td>\n",
       "      <td>0.47</td>\n",
       "      <td>0.004</td>\n",
       "      <td>0.32</td>\n",
       "    </tr>\n",
       "  </tbody>\n",
       "</table>\n",
       "</div>"
      ],
      "text/plain": [
       "      mm     N   mm.1   N.1   mm.2   N.2   mm.3   N.3   mm.4   N.4\n",
       "1  0.000  0.10  0.000  0.10  0.000  0.10  0.000  0.11  0.000  0.11\n",
       "2  0.001  0.18  0.001  0.14  0.001  0.12  0.001  0.18  0.001  0.12\n",
       "3  0.002  0.26  0.002  0.24  0.002  0.22  0.002  0.26  0.002  0.20\n",
       "4  0.003  0.37  0.003  0.35  0.003  0.34  0.003  0.35  0.003  0.25\n",
       "5  0.004  0.43  0.004  0.46  0.004  0.43  0.004  0.47  0.004  0.32"
      ]
     },
     "execution_count": 10,
     "metadata": {},
     "output_type": "execute_result"
    }
   ],
   "source": [
    "#%% read files and parameters\n",
    "data = pd.read_csv(file, sep=',', encoding='shift_jis', skiprows=1, index_col=0)\n",
    "data_rlt = pd.read_csv(file_rlt, sep=',', skiprows=[1,2], index_col=0, encoding='shift_jis')\n",
    "data.head()"
   ]
  },
  {
   "cell_type": "code",
   "execution_count": 11,
   "metadata": {},
   "outputs": [
    {
     "name": "stdout",
     "output_type": "stream",
     "text": [
      "span, width, height of first specimen: 64 , 3.8339999999999996 , 15106.0\n"
     ]
    }
   ],
   "source": [
    "L = 64  # span\n",
    "b = float(data_rlt.iloc[2, 3]) # width of first specimen\n",
    "h = float(data_rlt.iloc[2, 4]) # height of first specimen\n",
    "print('span, width, height of first specimen:', L, ',', b, ',', h)"
   ]
  },
  {
   "cell_type": "code",
   "execution_count": 12,
   "metadata": {},
   "outputs": [
    {
     "data": {
      "text/html": [
       "<div>\n",
       "<style scoped>\n",
       "    .dataframe tbody tr th:only-of-type {\n",
       "        vertical-align: middle;\n",
       "    }\n",
       "\n",
       "    .dataframe tbody tr th {\n",
       "        vertical-align: top;\n",
       "    }\n",
       "\n",
       "    .dataframe thead th {\n",
       "        text-align: right;\n",
       "    }\n",
       "</style>\n",
       "<table border=\"1\" class=\"dataframe\">\n",
       "  <thead>\n",
       "    <tr style=\"text-align: right;\">\n",
       "      <th></th>\n",
       "      <th>mm</th>\n",
       "      <th>N</th>\n",
       "    </tr>\n",
       "  </thead>\n",
       "  <tbody>\n",
       "    <tr>\n",
       "      <th>1</th>\n",
       "      <td>0.000</td>\n",
       "      <td>0.10</td>\n",
       "    </tr>\n",
       "    <tr>\n",
       "      <th>2</th>\n",
       "      <td>0.001</td>\n",
       "      <td>0.18</td>\n",
       "    </tr>\n",
       "    <tr>\n",
       "      <th>3</th>\n",
       "      <td>0.002</td>\n",
       "      <td>0.26</td>\n",
       "    </tr>\n",
       "    <tr>\n",
       "      <th>4</th>\n",
       "      <td>0.003</td>\n",
       "      <td>0.37</td>\n",
       "    </tr>\n",
       "    <tr>\n",
       "      <th>5</th>\n",
       "      <td>0.004</td>\n",
       "      <td>0.43</td>\n",
       "    </tr>\n",
       "    <tr>\n",
       "      <th>...</th>\n",
       "      <td>...</td>\n",
       "      <td>...</td>\n",
       "    </tr>\n",
       "    <tr>\n",
       "      <th>483</th>\n",
       "      <td>4.249</td>\n",
       "      <td>255.00</td>\n",
       "    </tr>\n",
       "    <tr>\n",
       "      <th>484</th>\n",
       "      <td>4.349</td>\n",
       "      <td>255.00</td>\n",
       "    </tr>\n",
       "    <tr>\n",
       "      <th>485</th>\n",
       "      <td>NaN</td>\n",
       "      <td>NaN</td>\n",
       "    </tr>\n",
       "    <tr>\n",
       "      <th>486</th>\n",
       "      <td>NaN</td>\n",
       "      <td>NaN</td>\n",
       "    </tr>\n",
       "    <tr>\n",
       "      <th>487</th>\n",
       "      <td>NaN</td>\n",
       "      <td>NaN</td>\n",
       "    </tr>\n",
       "  </tbody>\n",
       "</table>\n",
       "<p>487 rows × 2 columns</p>\n",
       "</div>"
      ],
      "text/plain": [
       "        mm       N\n",
       "1    0.000    0.10\n",
       "2    0.001    0.18\n",
       "3    0.002    0.26\n",
       "4    0.003    0.37\n",
       "5    0.004    0.43\n",
       "..     ...     ...\n",
       "483  4.249  255.00\n",
       "484  4.349  255.00\n",
       "485    NaN     NaN\n",
       "486    NaN     NaN\n",
       "487    NaN     NaN\n",
       "\n",
       "[487 rows x 2 columns]"
      ]
     },
     "execution_count": 12,
     "metadata": {},
     "output_type": "execute_result"
    }
   ],
   "source": [
    "#cut out curve of first specimen\n",
    "col = ['mm', 'N']\n",
    "data = data.reindex(columns=col)\n",
    "data"
   ]
  },
  {
   "cell_type": "code",
   "execution_count": 13,
   "metadata": {},
   "outputs": [],
   "source": [
    "#%% convert (mm, N) to (%, MPa)\n",
    "# sigma = 3*F*L / (2*b*h^2)\n",
    "# epsilon = 6*100*s*h / (L^2)\n",
    "# F: load, L:span = 64 mm, b:width, h:height, s=strain/mm\n",
    "\n",
    "data['strain'] = data['mm'] * 6 * 100 * h / L / L\n",
    "data['stress'] = data['N'] * 3 * L / (2 * b * h * h)\n",
    "data.dropna(subset=['mm'], inplace=True)"
   ]
  },
  {
   "cell_type": "code",
   "execution_count": 14,
   "metadata": {},
   "outputs": [
    {
     "data": {
      "image/png": "[encoded data removed]",
      "text/plain": [
       "<Figure size 432x288 with 1 Axes>"
      ]
     },
     "metadata": {},
     "output_type": "display_data"
    }
   ],
   "source": [
    "plt.plot(data['strain'], data['stress'])\n",
    "plt.xlabel = 'strain / %'\n",
    "plt.ylabel = 'stress / N'\n",
    "plt.show()"
   ]
  },
  {
   "cell_type": "code",
   "execution_count": 15,
   "metadata": {},
   "outputs": [],
   "source": [
    "#%% data thinnings\n",
    "max_strain = 10\n",
    "interval = 0.1\n",
    "interval_steps = int(max_strain/interval)\n",
    "marker = pd.DataFrame({'strain': np.round(np.linspace(0, max_strain, interval_steps, endpoint=False), 2), 'marker': True})\n",
    "data_marked = pd.merge(data, marker, on='strain', how='outer')\n",
    "data_marked.sort_values(by=['strain'], inplace=True)\n",
    "data_marked.rename(data_marked['strain'], inplace=True)\n",
    "data_marked.interpolate(method='slinear', limit=1, inplace=True)"
   ]
  },
  {
   "cell_type": "code",
   "execution_count": 16,
   "metadata": {},
   "outputs": [
    {
     "data": {
      "text/html": [
       "<div>\n",
       "<style scoped>\n",
       "    .dataframe tbody tr th:only-of-type {\n",
       "        vertical-align: middle;\n",
       "    }\n",
       "\n",
       "    .dataframe tbody tr th {\n",
       "        vertical-align: top;\n",
       "    }\n",
       "\n",
       "    .dataframe thead th {\n",
       "        text-align: right;\n",
       "    }\n",
       "</style>\n",
       "<table border=\"1\" class=\"dataframe\">\n",
       "  <thead>\n",
       "    <tr style=\"text-align: right;\">\n",
       "      <th></th>\n",
       "      <th>mm</th>\n",
       "      <th>N</th>\n",
       "      <th>strain</th>\n",
       "      <th>stress</th>\n",
       "      <th>marker</th>\n",
       "    </tr>\n",
       "  </thead>\n",
       "  <tbody>\n",
       "    <tr>\n",
       "      <th>0.0</th>\n",
       "      <td>0.000000</td>\n",
       "      <td>0.100000</td>\n",
       "      <td>0.0</td>\n",
       "      <td>1.097287e-08</td>\n",
       "      <td>True</td>\n",
       "    </tr>\n",
       "    <tr>\n",
       "      <th>0.1</th>\n",
       "      <td>0.000045</td>\n",
       "      <td>0.103615</td>\n",
       "      <td>0.1</td>\n",
       "      <td>1.136957e-08</td>\n",
       "      <td>True</td>\n",
       "    </tr>\n",
       "    <tr>\n",
       "      <th>0.2</th>\n",
       "      <td>NaN</td>\n",
       "      <td>NaN</td>\n",
       "      <td>0.2</td>\n",
       "      <td>NaN</td>\n",
       "      <td>True</td>\n",
       "    </tr>\n",
       "    <tr>\n",
       "      <th>0.3</th>\n",
       "      <td>NaN</td>\n",
       "      <td>NaN</td>\n",
       "      <td>0.3</td>\n",
       "      <td>NaN</td>\n",
       "      <td>True</td>\n",
       "    </tr>\n",
       "    <tr>\n",
       "      <th>0.4</th>\n",
       "      <td>NaN</td>\n",
       "      <td>NaN</td>\n",
       "      <td>0.4</td>\n",
       "      <td>NaN</td>\n",
       "      <td>True</td>\n",
       "    </tr>\n",
       "    <tr>\n",
       "      <th>...</th>\n",
       "      <td>...</td>\n",
       "      <td>...</td>\n",
       "      <td>...</td>\n",
       "      <td>...</td>\n",
       "      <td>...</td>\n",
       "    </tr>\n",
       "    <tr>\n",
       "      <th>9.5</th>\n",
       "      <td>NaN</td>\n",
       "      <td>NaN</td>\n",
       "      <td>9.5</td>\n",
       "      <td>NaN</td>\n",
       "      <td>True</td>\n",
       "    </tr>\n",
       "    <tr>\n",
       "      <th>9.6</th>\n",
       "      <td>NaN</td>\n",
       "      <td>NaN</td>\n",
       "      <td>9.6</td>\n",
       "      <td>NaN</td>\n",
       "      <td>True</td>\n",
       "    </tr>\n",
       "    <tr>\n",
       "      <th>9.7</th>\n",
       "      <td>NaN</td>\n",
       "      <td>NaN</td>\n",
       "      <td>9.7</td>\n",
       "      <td>NaN</td>\n",
       "      <td>True</td>\n",
       "    </tr>\n",
       "    <tr>\n",
       "      <th>9.8</th>\n",
       "      <td>NaN</td>\n",
       "      <td>NaN</td>\n",
       "      <td>9.8</td>\n",
       "      <td>NaN</td>\n",
       "      <td>True</td>\n",
       "    </tr>\n",
       "    <tr>\n",
       "      <th>9.9</th>\n",
       "      <td>NaN</td>\n",
       "      <td>NaN</td>\n",
       "      <td>9.9</td>\n",
       "      <td>NaN</td>\n",
       "      <td>True</td>\n",
       "    </tr>\n",
       "  </tbody>\n",
       "</table>\n",
       "<p>100 rows × 5 columns</p>\n",
       "</div>"
      ],
      "text/plain": [
       "           mm         N  strain        stress marker\n",
       "0.0  0.000000  0.100000     0.0  1.097287e-08   True\n",
       "0.1  0.000045  0.103615     0.1  1.136957e-08   True\n",
       "0.2       NaN       NaN     0.2           NaN   True\n",
       "0.3       NaN       NaN     0.3           NaN   True\n",
       "0.4       NaN       NaN     0.4           NaN   True\n",
       "..        ...       ...     ...           ...    ...\n",
       "9.5       NaN       NaN     9.5           NaN   True\n",
       "9.6       NaN       NaN     9.6           NaN   True\n",
       "9.7       NaN       NaN     9.7           NaN   True\n",
       "9.8       NaN       NaN     9.8           NaN   True\n",
       "9.9       NaN       NaN     9.9           NaN   True\n",
       "\n",
       "[100 rows x 5 columns]"
      ]
     },
     "execution_count": 16,
     "metadata": {},
     "output_type": "execute_result"
    }
   ],
   "source": [
    "data_marked['marker'].fillna('False', inplace=True)\n",
    "data_skipped = data_marked[data_marked['marker']==True]\n",
    "data_skipped"
   ]
  },
  {
   "cell_type": "code",
   "execution_count": 17,
   "metadata": {},
   "outputs": [
    {
     "data": {
      "image/png": "[encoded data removed]",
      "text/plain": [
       "<Figure size 432x288 with 1 Axes>"
      ]
     },
     "metadata": {},
     "output_type": "display_data"
    }
   ],
   "source": [
    "fig = plt.figure()\n",
    "ax = fig.add_subplot(1, 1, 1)\n",
    "ax.plot(data_skipped['strain'], data_skipped['stress'], marker='+', label='Extracted')\n",
    "ax.plot(data['strain'], data['stress'], label='Raw data')\n",
    "ax.set_xlabel('strain / %')\n",
    "ax.set_ylabel('stress / MPa')\n",
    "ax.set_title('Raw data and extracted data')\n",
    "ax.legend(loc='best')\n",
    "plt.show()"
   ]
  },
  {
   "cell_type": "code",
   "execution_count": 18,
   "metadata": {},
   "outputs": [
    {
     "data": {
      "text/plain": [
       "0.0    1.097287e-08\n",
       "0.1    1.136957e-08\n",
       "0.2             NaN\n",
       "0.3             NaN\n",
       "0.4             NaN\n",
       "           ...     \n",
       "9.5             NaN\n",
       "9.6             NaN\n",
       "9.7             NaN\n",
       "9.8             NaN\n",
       "9.9             NaN\n",
       "Name: stress, Length: 100, dtype: float64"
      ]
     },
     "execution_count": 18,
     "metadata": {},
     "output_type": "execute_result"
    }
   ],
   "source": [
    "thinnedSS = data_skipped['stress']\n",
    "thinnedSS"
   ]
  },
  {
   "cell_type": "code",
   "execution_count": 19,
   "metadata": {},
   "outputs": [
    {
     "data": {
      "text/plain": [
       "'sample_data/201805/RL7785--1K-20180517102718_crv.csv'"
      ]
     },
     "execution_count": 19,
     "metadata": {},
     "output_type": "execute_result"
    }
   ],
   "source": [
    "    file = {'name':'RL7785',\n",
    "            'crv':'sample_data/201805/RL7785--1K-20180517102718_crv.csv', \n",
    "            'rlt':'sample_data/201805/RL7785--1K-20180517102718_rlt.csv',\n",
    "            'set':'sample_data/201805/RL7785--1K-20180517102718_set.csv'}\n",
    "    #for windows\n",
    "    #file = {'crv':'sample_data\\\\201805\\\\RL7785--1K-20180517102718_crv.csv', \n",
    "    #        'rlt':'sample_data\\\\201805\\\\RL7785--1K-20180517102718_rlt.csv',\n",
    "    #        'set':'sample_data\\\\201805\\\\RL7785--1K-20180517102718_set.csv'}\n",
    "    file['crv']"
   ]
  },
  {
   "cell_type": "code",
   "execution_count": 20,
   "metadata": {},
   "outputs": [],
   "source": [
    "def thinningSS(file, max_strain=10, interval=0.1):\n",
    "    '''a function to conduct data thinning of SS curve at range (0, MAX_STRAIN), with INTERVAL\n",
    "    This returns np.series of stress with strain in the index. \n",
    "    FILE should be passed as dictionary containing following: \n",
    "        'name': name of sample like 'RL7785'\n",
    "        'crv': path(relative) of xxx_crv.csv file\n",
    "        'rlt': path(relative) of xxx_rlt.csv file\n",
    "        'set': path(relative) of xxx_set.csv file\n",
    "    '''\n",
    "    \n",
    "    # read files and parameters\n",
    "    data = pd.read_csv(file['crv'], sep=',', encoding='shift_jis', skiprows=1, index_col=0)\n",
    "    data_rlt = pd.read_csv(file['rlt'], sep=',', encoding='shift_jis')\n",
    "    L = 64  # span\n",
    "    b = float(data_rlt.iloc[2, 3]) # width of first specimen\n",
    "    h = float(data_rlt.iloc[2, 4]) # height of first specimen\n",
    "    #print('span, width, height of first specimen:', L, ',', b, ',', h)#cut out curve of first specimen\n",
    "    col = ['mm', 'N']\n",
    "    data = data.reindex(columns=col)\n",
    "    data.dropna(subset=['mm'], inplace=True)\n",
    "    \n",
    "    #%% convert (mm, N) to (%, MPa)\n",
    "    # sigma = 3*F*L / (2*b*h^2)\n",
    "    # epsilon = 6*100*s*h / (L^2)\n",
    "    # F: load, L:span = 64 mm, b:width, h:height, s=strain/mm\n",
    "    data['strain'] = data['mm'] * 6 * 100 * h / L / L\n",
    "    data['stress'] = data['N'] * 3 * L / (2 * b * h * h)\n",
    "    \n",
    "    #%% data thinnings\n",
    "    interval_steps = int(max_strain/interval)\n",
    "    marker = pd.DataFrame({'strain': np.round(np.linspace(0, max_strain, interval_steps, endpoint=False), 2), 'marker': True})\n",
    "    data_marked = pd.merge(data, marker, on='strain', how='outer')\n",
    "    data_marked.rename(data_marked['strain'], inplace=True)\n",
    "    data_marked.sort_values(by=['strain'], inplace=True)\n",
    "    data_marked.interpolate(method='slinear', limit=1, inplace=True)\n",
    "    data_marked['marker'].fillna('False', inplace=True)\n",
    "    data_skipped = data_marked[data_marked['marker']==True]\n",
    "    thinnedSS = data_skipped['stress']\n",
    "    thinnedSS.name = file['name']\n",
    "    \n",
    "    return thinnedSS\n"
   ]
  },
  {
   "cell_type": "code",
   "execution_count": 21,
   "metadata": {},
   "outputs": [],
   "source": [
    "test = thinningSS(file)"
   ]
  },
  {
   "cell_type": "markdown",
   "metadata": {},
   "source": [
    "# From here: data picking "
   ]
  },
  {
   "cell_type": "code",
   "execution_count": 31,
   "metadata": {
    "scrolled": true
   },
   "outputs": [
    {
     "data": {
      "text/plain": [
       "width             9.841\n",
       "height            3.831\n",
       "FM            15169.000\n",
       "FS_max          170.400\n",
       "FS_break        170.200\n",
       "                ...    \n",
       "d_FM            131.000\n",
       "d_FS_max          1.500\n",
       "d_FS_break        1.500\n",
       "d_FE_max          0.080\n",
       "d_FE_break        0.080\n",
       "Length: 14, dtype: float64"
      ]
     },
     "execution_count": 31,
     "metadata": {},
     "output_type": "execute_result"
    }
   ],
   "source": [
    "#file_rlt = 'sample_data\\\\201805\\\\RL7785--1K-20180517102718_rlt.csv'\n",
    "file_rlt = 'sample_data/201805/RL7797--1K-20180525135150_rlt.csv'\n",
    "\n",
    "data_rlt = pd.read_csv(file_rlt, sep=',', skiprows=[1,2], index_col=0, encoding='shift_jis')\n",
    "parameters = ['幅', '厚さ', '弾性率', '最大点', '破壊点', '最大点.1', '破壊点.1']\n",
    "data_rlt = data_rlt.loc[['単純平均', '標準偏差'], parameters]\n",
    "data_rlt.index = ['average', 'stdev']\n",
    "data_rlt.columns = ['width', 'height', 'FM', 'FS_max', 'FS_break', 'FE_max', 'FE_break']\n",
    "data_rlt = data_rlt.values\n",
    "data_flattened = [item for sublist in data_rlt for item in sublist] #see below\n",
    "parameters = ['width', 'height', 'FM', 'FS_max', 'FS_break', 'FE_max', 'FE_break', \n",
    "              'd_width', 'd_height', 'd_FM', 'd_FS_max', 'd_FS_break', 'd_FE_max', 'd_FE_break']\n",
    "data_rlt = pd.Series(data_flattened, index=parameters) \n",
    "data_rlt"
   ]
  },
  {
   "cell_type": "code",
   "execution_count": 33,
   "metadata": {},
   "outputs": [],
   "source": [
    "def parameters(file):\n",
    "    '''a function to pick following parameters as pd.Series: \n",
    "    parameters = ['width', 'height', 'FM', 'FS_max', 'FS_break', 'FE_max', 'FE_break', \n",
    "              'd_width', 'd_height', 'd_FM', 'd_FS_max', 'd_FS_break', 'd_FE_max', 'd_FE_break']\n",
    "    FILE should be passed as dictionary containing following: \n",
    "        'name': name of sample like 'RL7785'\n",
    "        'crv': path(relative) of xxx_crv.csv file\n",
    "        'rlt': path(relative) of xxx_rlt.csv file\n",
    "        'set': path(relative) of xxx_set.csv file '''\n",
    "\n",
    "    file_rlt = file['rlt']\n",
    "    data_rlt = pd.read_csv(file_rlt, sep=',', skiprows=[1,2], index_col=0, encoding='shift_jis')\n",
    "    parameters = ['幅', '厚さ', '弾性率', '最大点', '破壊点', '最大点.1', '破壊点.1']\n",
    "    data_rlt = data_rlt.loc[['単純平均', '標準偏差'], parameters]\n",
    "    data_rlt.index = ['average', 'stdev']\n",
    "    data_rlt.columns = ['width', 'height', 'FM', 'FS_max', 'FS_break', 'FE_max', 'FE_break']\n",
    "    data_rlt = data_rlt.values\n",
    "    data_flattened = [item for sublist in data_rlt for item in sublist] #see below\n",
    "    parameters = ['width', 'height', 'FM', 'FS_max', 'FS_break', 'FE_max', 'FE_break', \n",
    "                  'd_width', 'd_height', 'd_FM', 'd_FS_max', 'd_FS_break', 'd_FE_max', 'd_FE_break']\n",
    "    data_rlt = pd.Series(data_flattened, index=parameters) \n",
    "    data_rlt.name = file['name']\n",
    "    return data_rlt"
   ]
  },
  {
   "cell_type": "code",
   "execution_count": 34,
   "metadata": {},
   "outputs": [
    {
     "data": {
      "text/plain": [
       "width             9.816\n",
       "height            3.944\n",
       "FM            10020.000\n",
       "FS_max           88.600\n",
       "FS_break         87.100\n",
       "                ...    \n",
       "d_FM             48.000\n",
       "d_FS_max          1.500\n",
       "d_FS_break        2.300\n",
       "d_FE_max          0.080\n",
       "d_FE_break        0.080\n",
       "Name: RL7785, Length: 14, dtype: float64"
      ]
     },
     "execution_count": 34,
     "metadata": {},
     "output_type": "execute_result"
    }
   ],
   "source": [
    "parameters(file)"
   ]
  },
  {
   "cell_type": "code",
   "execution_count": null,
   "metadata": {},
   "outputs": [],
   "source": []
  }
 ],
 "metadata": {
  "kernelspec": {
   "display_name": "Python 3",
   "language": "python",
   "name": "python3"
  },
  "language_info": {
   "codemirror_mode": {
    "name": "ipython",
    "version": 3
   },
   "file_extension": ".py",
   "mimetype": "text/x-python",
   "name": "python",
   "nbconvert_exporter": "python",
   "pygments_lexer": "ipython3",
   "version": "3.6.5"
  }
 },
 "nbformat": 4,
 "nbformat_minor": 2
}

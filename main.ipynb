{
 "cells": [
  {
   "cell_type": "code",
   "execution_count": 1,
   "metadata": {},
   "outputs": [],
   "source": [
    "import numpy as np\n",
    "import pandas as pd\n",
    "import os\n",
    "import matplotlib.pyplot as plt\n",
    "import drawSS\n",
    "\n",
    "%matplotlib inline\n",
    "pd.set_option('display.max_rows', 10)"
   ]
  },
  {
   "cell_type": "code",
   "execution_count": 2,
   "metadata": {},
   "outputs": [],
   "source": [
    "#%% to update files, run following script\n",
    "# %run ./copyRLFiles.ipynb"
   ]
  },
  {
   "cell_type": "code",
   "execution_count": 44,
   "metadata": {},
   "outputs": [
    {
     "name": "stdout",
     "output_type": "stream",
     "text": [
      "RL7929--1K-20180607154847_rlt.csv\n",
      "RL7786--1K-20180517104349_rlt.csv\n",
      "RL7797--1K-20180525135150_rlt.csv\n",
      "RL7785--1K-20180517102718_rlt.csv\n",
      "RL7928--1K-20180607153125_rlt.csv\n"
     ]
    },
    {
     "data": {
      "text/html": [
       "<div>\n",
       "<style scoped>\n",
       "    .dataframe tbody tr th:only-of-type {\n",
       "        vertical-align: middle;\n",
       "    }\n",
       "\n",
       "    .dataframe tbody tr th {\n",
       "        vertical-align: top;\n",
       "    }\n",
       "\n",
       "    .dataframe thead th {\n",
       "        text-align: right;\n",
       "    }\n",
       "</style>\n",
       "<table border=\"1\" class=\"dataframe\">\n",
       "  <thead>\n",
       "    <tr style=\"text-align: right;\">\n",
       "      <th></th>\n",
       "      <th>RL7785</th>\n",
       "      <th>RL7786</th>\n",
       "      <th>RL7797</th>\n",
       "      <th>RL7928</th>\n",
       "      <th>RL7929</th>\n",
       "    </tr>\n",
       "  </thead>\n",
       "  <tbody>\n",
       "    <tr>\n",
       "      <th>0.0</th>\n",
       "      <td>0.062847</td>\n",
       "      <td>0.069231</td>\n",
       "      <td>0.066509</td>\n",
       "      <td>0.071973</td>\n",
       "      <td>0.071884</td>\n",
       "    </tr>\n",
       "    <tr>\n",
       "      <th>0.1</th>\n",
       "      <td>10.310726</td>\n",
       "      <td>10.624817</td>\n",
       "      <td>14.618188</td>\n",
       "      <td>10.166107</td>\n",
       "      <td>9.319359</td>\n",
       "    </tr>\n",
       "    <tr>\n",
       "      <th>0.2</th>\n",
       "      <td>20.466567</td>\n",
       "      <td>20.856029</td>\n",
       "      <td>29.994362</td>\n",
       "      <td>21.069570</td>\n",
       "      <td>19.253004</td>\n",
       "    </tr>\n",
       "    <tr>\n",
       "      <th>0.3</th>\n",
       "      <td>29.523915</td>\n",
       "      <td>30.067564</td>\n",
       "      <td>44.396392</td>\n",
       "      <td>31.435792</td>\n",
       "      <td>28.844620</td>\n",
       "    </tr>\n",
       "    <tr>\n",
       "      <th>0.4</th>\n",
       "      <td>37.765505</td>\n",
       "      <td>38.380989</td>\n",
       "      <td>57.684690</td>\n",
       "      <td>41.202831</td>\n",
       "      <td>37.965686</td>\n",
       "    </tr>\n",
       "    <tr>\n",
       "      <th>...</th>\n",
       "      <td>...</td>\n",
       "      <td>...</td>\n",
       "      <td>...</td>\n",
       "      <td>...</td>\n",
       "      <td>...</td>\n",
       "    </tr>\n",
       "    <tr>\n",
       "      <th>9.5</th>\n",
       "      <td>NaN</td>\n",
       "      <td>NaN</td>\n",
       "      <td>NaN</td>\n",
       "      <td>NaN</td>\n",
       "      <td>NaN</td>\n",
       "    </tr>\n",
       "    <tr>\n",
       "      <th>9.6</th>\n",
       "      <td>NaN</td>\n",
       "      <td>NaN</td>\n",
       "      <td>NaN</td>\n",
       "      <td>NaN</td>\n",
       "      <td>NaN</td>\n",
       "    </tr>\n",
       "    <tr>\n",
       "      <th>9.7</th>\n",
       "      <td>NaN</td>\n",
       "      <td>NaN</td>\n",
       "      <td>NaN</td>\n",
       "      <td>NaN</td>\n",
       "      <td>NaN</td>\n",
       "    </tr>\n",
       "    <tr>\n",
       "      <th>9.8</th>\n",
       "      <td>NaN</td>\n",
       "      <td>NaN</td>\n",
       "      <td>NaN</td>\n",
       "      <td>NaN</td>\n",
       "      <td>NaN</td>\n",
       "    </tr>\n",
       "    <tr>\n",
       "      <th>9.9</th>\n",
       "      <td>NaN</td>\n",
       "      <td>NaN</td>\n",
       "      <td>NaN</td>\n",
       "      <td>NaN</td>\n",
       "      <td>NaN</td>\n",
       "    </tr>\n",
       "  </tbody>\n",
       "</table>\n",
       "<p>100 rows × 5 columns</p>\n",
       "</div>"
      ],
      "text/plain": [
       "        RL7785     RL7786     RL7797     RL7928     RL7929\n",
       "0.0   0.062847   0.069231   0.066509   0.071973   0.071884\n",
       "0.1  10.310726  10.624817  14.618188  10.166107   9.319359\n",
       "0.2  20.466567  20.856029  29.994362  21.069570  19.253004\n",
       "0.3  29.523915  30.067564  44.396392  31.435792  28.844620\n",
       "0.4  37.765505  38.380989  57.684690  41.202831  37.965686\n",
       "..         ...        ...        ...        ...        ...\n",
       "9.5        NaN        NaN        NaN        NaN        NaN\n",
       "9.6        NaN        NaN        NaN        NaN        NaN\n",
       "9.7        NaN        NaN        NaN        NaN        NaN\n",
       "9.8        NaN        NaN        NaN        NaN        NaN\n",
       "9.9        NaN        NaN        NaN        NaN        NaN\n",
       "\n",
       "[100 rows x 5 columns]"
      ]
     },
     "execution_count": 44,
     "metadata": {},
     "output_type": "execute_result"
    }
   ],
   "source": [
    "#%% load all files from the folder and summarized in data_all\n",
    "folder = 'data'\n",
    "files = [f for f in os.listdir('data') if 'rlt.csv' in f]\n",
    "\n",
    "data_all = {}\n",
    "for file in files:\n",
    "    print(file)\n",
    "    file_set= {'rlt': os.path.join(folder, file), \n",
    "                'name': file[:6], \n",
    "                'crv': os.path.join(folder, file[:len(file)-7] + 'crv.csv'),\n",
    "                'set': os.path.join(folder, file[:len(file)-7] + 'set.csv'),}\n",
    "    data = drawSS.thinningSS(file_set)\n",
    "    data_all[data.name] = data.to_dict()\n",
    "data_all = pd.DataFrame(data_all)\n",
    "data_all"
   ]
  },
  {
   "cell_type": "code",
   "execution_count": 59,
   "metadata": {},
   "outputs": [],
   "source": [
    "#%% regularize data by strain at REGULARIZE_STRAIN\n",
    "regularize_strain = 0.4\n",
    "data_reg = data_all/data_all.loc[regularize_strain] * regularize_strain"
   ]
  },
  {
   "cell_type": "code",
   "execution_count": 60,
   "metadata": {},
   "outputs": [
    {
     "data": {
      "text/plain": [
       "<Figure size 432x288 with 0 Axes>"
      ]
     },
     "metadata": {},
     "output_type": "display_data"
    },
    {
     "data": {
      "image/png": "[encoded data removed]",
      "text/plain": [
       "<Figure size 432x288 with 1 Axes>"
      ]
     },
     "metadata": {},
     "output_type": "display_data"
    }
   ],
   "source": [
    "#%% plot all regularized data\n",
    "fig = plt.figure()\n",
    "#ax = fig.add_subplot(1, 1, 1)\n",
    "ax = data_reg.plot()\n",
    "#ax.plot(data_skipped['strain'], data_skipped['stress'], marker='+', label='Extracted')\n",
    "#ax.plot(data['strain'], data['stress'], label='Raw data')\n",
    "ax.set_xlabel('strain / %')\n",
    "ax.set_ylabel('stress')\n",
    "ax.set_title('Regularized (at ' + str(regularize_strain) + ' %) plot of S-S')\n",
    "ax.legend(loc='best')\n",
    "plt.show()"
   ]
  },
  {
   "cell_type": "code",
   "execution_count": null,
   "metadata": {},
   "outputs": [],
   "source": []
  },
  {
   "cell_type": "code",
   "execution_count": null,
   "metadata": {},
   "outputs": [],
   "source": []
  }
 ],
 "metadata": {
  "kernelspec": {
   "display_name": "Python 3",
   "language": "python",
   "name": "python3"
  },
  "language_info": {
   "codemirror_mode": {
    "name": "ipython",
    "version": 3
   },
   "file_extension": ".py",
   "mimetype": "text/x-python",
   "name": "python",
   "nbconvert_exporter": "python",
   "pygments_lexer": "ipython3",
   "version": "3.6.5"
  }
 },
 "nbformat": 4,
 "nbformat_minor": 2
}

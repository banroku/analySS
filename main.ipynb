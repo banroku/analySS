{
 "cells": [
  {
   "cell_type": "code",
   "execution_count": 2,
   "metadata": {},
   "outputs": [],
   "source": [
    "import numpy as np\n",
    "import pandas as pd\n",
    "import os\n",
    "import matplotlib.pyplot as plt\n",
    "import drawSS\n",
    "\n",
    "%matplotlib inline\n",
    "pd.set_option('display.max_rows', 10)"
   ]
  },
  {
   "cell_type": "code",
   "execution_count": 3,
   "metadata": {},
   "outputs": [],
   "source": [
    "#%% to update files, run following script\n",
    "# %run ./copyRLFiles.ipynb"
   ]
  },
  {
   "cell_type": "code",
   "execution_count": 5,
   "metadata": {},
   "outputs": [
    {
     "name": "stdout",
     "output_type": "stream",
     "text": [
      "RL7929--1K-20180607154847_rlt.csv\n",
      "RL7786--1K-20180517104349_rlt.csv\n",
      "RL7797--1K-20180525135150_rlt.csv\n",
      "RL7785--1K-20180517102718_rlt.csv\n",
      "RL7928--1K-20180607153125_rlt.csv\n"
     ]
    }
   ],
   "source": [
    "folder = 'data'\n",
    "files = [f for f in os.listdir('data') if 'rlt.csv' in f]\n",
    "\n",
    "for file in files:\n",
    "    print(file)\n",
    "    file_set= {'rlt': os.path.join(folder, file), \n",
    "                'name': file[:6], \n",
    "                'crv': os.path.join(folder, file[:len(file)-7] + 'crv.csv'),\n",
    "                'set': os.path.join(folder, file[:len(file)-7] + 'set.csv'),}\n",
    "    data = drawSS.thinningSS(file_set)\n",
    " "
   ]
  },
  {
   "cell_type": "code",
   "execution_count": 6,
   "metadata": {},
   "outputs": [
    {
     "name": "stdout",
     "output_type": "stream",
     "text": [
      "0.0     0.071973\n",
      "0.1    10.166107\n",
      "0.2    21.069570\n",
      "0.3    31.435792\n",
      "0.4    41.202831\n",
      "         ...    \n",
      "9.5          NaN\n",
      "9.6          NaN\n",
      "9.7          NaN\n",
      "9.8          NaN\n",
      "9.9          NaN\n",
      "Name: RL7928, Length: 100, dtype: float64\n"
     ]
    }
   ],
   "source": [
    "print(data)"
   ]
  },
  {
   "cell_type": "code",
   "execution_count": null,
   "metadata": {},
   "outputs": [],
   "source": []
  }
 ],
 "metadata": {
  "kernelspec": {
   "display_name": "Python 3",
   "language": "python",
   "name": "python3"
  },
  "language_info": {
   "codemirror_mode": {
    "name": "ipython",
    "version": 3
   },
   "file_extension": ".py",
   "mimetype": "text/x-python",
   "name": "python",
   "nbconvert_exporter": "python",
   "pygments_lexer": "ipython3",
   "version": "3.6.5"
  }
 },
 "nbformat": 4,
 "nbformat_minor": 2
}
